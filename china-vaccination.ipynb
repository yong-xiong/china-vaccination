{
 "cells": [
  {
   "cell_type": "code",
   "execution_count": 102,
   "metadata": {},
   "outputs": [],
   "source": [
    "import time \n",
    "from bs4 import BeautifulSoup\n",
    "import requests\n",
    "import pandas as pd\n",
    "import random\n",
    "import datetime\n",
    "import csv\n"
   ]
  },
  {
   "cell_type": "code",
   "execution_count": 6,
   "metadata": {},
   "outputs": [],
   "source": [
    "from playwright.async_api import async_playwright\n"
   ]
  },
  {
   "cell_type": "code",
   "execution_count": 7,
   "metadata": {},
   "outputs": [],
   "source": [
    "playwright = await async_playwright().start()\n",
    "browser = await playwright.chromium.launch(headless = False)\n"
   ]
  },
  {
   "cell_type": "code",
   "execution_count": 8,
   "metadata": {},
   "outputs": [
    {
     "data": {
      "text/plain": [
       "<coroutine object Browser.new_page at 0x12d104790>"
      ]
     },
     "execution_count": 8,
     "metadata": {},
     "output_type": "execute_result"
    }
   ],
   "source": [
    "browser.new_page()"
   ]
  },
  {
   "cell_type": "code",
   "execution_count": 9,
   "metadata": {},
   "outputs": [
    {
     "name": "stderr",
     "output_type": "stream",
     "text": [
      "/var/folders/j_/_3yzbdjs3ylf4k27zrqrssqc0000gp/T/ipykernel_95274/3314845844.py:1: RuntimeWarning: coroutine 'Browser.new_page' was never awaited\n",
      "  browser.new_page()\n",
      "RuntimeWarning: Enable tracemalloc to get the object allocation traceback\n"
     ]
    }
   ],
   "source": [
    "browser.new_page()\n",
    "page = await browser.new_page()\n"
   ]
  },
  {
   "cell_type": "code",
   "execution_count": 10,
   "metadata": {},
   "outputs": [],
   "source": [
    "#new jupyter notebook to scrape the list of date and the corresponding website link\n",
    "\n",
    "my_url_sample = 'http://sousuo.gov.cn/column/40403/0.htm'\n",
    "requests = requests.get(my_url_sample)\n",
    "soup = BeautifulSoup(requests.text, 'html.parser')"
   ]
  },
  {
   "cell_type": "code",
   "execution_count": 11,
   "metadata": {},
   "outputs": [
    {
     "data": {
      "text/plain": [
       "[<a href=\"http://www.gov.cn/xinwen/2022-12/13/content_5731660.htm\" target=\"_blank\">截至12月12日24时新型冠状病毒肺炎疫情最新情况</a>,\n",
       " <a href=\"http://www.gov.cn/xinwen/2022-12/12/content_5731552.htm\" target=\"_blank\">新冠病毒疫苗接种情况(截至12月11日)</a>,\n",
       " <a href=\"http://www.gov.cn/xinwen/2022-12/12/content_5731442.htm\" target=\"_blank\">截至12月11日24时新型冠状病毒肺炎疫情最新情况</a>,\n",
       " <a href=\"http://www.gov.cn/xinwen/2022-12/11/content_5731399.htm\" target=\"_blank\">助企纾困加力 多地落实落细系列税费支持政策</a>,\n",
       " <a href=\"http://www.gov.cn/xinwen/2022-12/11/content_5731373.htm\" target=\"_blank\">新冠病毒疫苗接种情况(截至12月10日)</a>,\n",
       " <a href=\"http://www.gov.cn/fuwu/2022-12/11/content_5731356.htm\" target=\"_blank\">2023\"我向总理说句话\"网民建言征集活动开始、乘火车不再查验48小时核酸阴性证明……本周提醒来了!</a>,\n",
       " <a href=\"http://www.gov.cn/xinwen/2022-12/11/content_5731342.htm\" target=\"_blank\">截至12月10日24时新型冠状病毒肺炎疫情最新情况</a>,\n",
       " <a href=\"http://www.gov.cn/xinwen/2022-12/11/content_5731333.htm\" target=\"_blank\">财政部:2022年特别国债为到期特别国债的等额滚动发行</a>,\n",
       " <a href=\"http://www.gov.cn/xinwen/2022-12/11/content_5731324.htm\" target=\"_blank\">国务院联防联控机制发布会:做好中西医结合医疗服务保障</a>,\n",
       " <a href=\"http://www.gov.cn/xinwen/2022-12/10/content_5731290.htm\" target=\"_blank\">应急管理部提示做好近期冷空气过程防范应对工作</a>,\n",
       " <a href=\"http://www.gov.cn/fuwu/2022-12/10/content_5731272.htm\" target=\"_blank\">进一步优化落实疫情防控措施、2023年放假安排公布……本周民生大事很重要!</a>,\n",
       " <a href=\"http://www.gov.cn/xinwen/2022-12/10/content_5731258.htm\" target=\"_blank\">新冠病毒疫苗接种情况(截至12月9日)</a>,\n",
       " <a href=\"http://www.gov.cn/xinwen/2022-12/10/content_5731251.htm\" target=\"_blank\">大商所大宗商品仓单登记中心正式上线</a>,\n",
       " <a href=\"http://www.gov.cn/xinwen/2022-12/10/content_5731220.htm\" target=\"_blank\">公路服务区和收费站疫情防控指南更新 取消服务区“落地检” 确保站区正常运转</a>,\n",
       " <a href=\"http://www.gov.cn/xinwen/2022-12/10/content_5731218.htm\" target=\"_blank\">截至12月9日24时新型冠状病毒肺炎疫情最新情况</a>,\n",
       " <a href=\"http://www.gov.cn/xinwen/2022-12/09/content_5731117.htm\" target=\"_blank\">落实进一步优化疫情防控措施 中西医结合做好医疗服务保障</a>,\n",
       " <a href=\"http://www.gov.cn/fuwu/2022-12/09/content_5731089.htm\" target=\"_blank\">所有医疗机构都要接诊核酸阳性患者、如何保障老年人看病就医……权威发布!</a>,\n",
       " <a href=\"http://www.gov.cn/xinwen/2022-12/09/content_5731088.htm\" target=\"_blank\">不能随意撤除核酸采样的点位</a>,\n",
       " <a href=\"http://www.gov.cn/xinwen/2022-12/09/content_5731087.htm\" target=\"_blank\">所有的医疗机构,都要接诊核酸阳性患者</a>,\n",
       " <a href=\"http://www.gov.cn/xinwen/2022-12/09/content_5731086.htm\" target=\"_blank\">我国重症救治能力如何?国家卫健委回应</a>]"
      ]
     },
     "execution_count": 11,
     "metadata": {},
     "output_type": "execute_result"
    }
   ],
   "source": [
    "covid_daily_announcement = soup.find_all('ul', class_ = 'listTxt')\n",
    "covid_daily_announcement = covid_daily_announcement[0].find_all('a')\n",
    "covid_daily_announcement\n",
    "# len(covid_daily_announcement)\n",
    "\n",
    "# daily_announce_links = [i['href'] for i in covid_daily_announcement[0].find_all('a')]\n",
    "# daily_announce_titles = [i.text for i in covid_daily_announcement[0].find_all('a')]\n",
    "\n"
   ]
  },
  {
   "cell_type": "code",
   "execution_count": 12,
   "metadata": {},
   "outputs": [
    {
     "name": "stdout",
     "output_type": "stream",
     "text": [
      "{'date': datetime.date(2022, 12, 12), 'title': '新冠病毒疫苗接种情况(截至12月11日)', 'link': 'http://www.gov.cn/xinwen/2022-12/12/content_5731552.htm'}\n",
      "{'date': datetime.date(2022, 12, 11), 'title': '新冠病毒疫苗接种情况(截至12月10日)', 'link': 'http://www.gov.cn/xinwen/2022-12/11/content_5731373.htm'}\n",
      "{'date': datetime.date(2022, 12, 10), 'title': '新冠病毒疫苗接种情况(截至12月9日)', 'link': 'http://www.gov.cn/xinwen/2022-12/10/content_5731258.htm'}\n"
     ]
    },
    {
     "data": {
      "text/plain": [
       "[{'date': datetime.date(2022, 12, 12),\n",
       "  'title': '新冠病毒疫苗接种情况(截至12月11日)',\n",
       "  'link': 'http://www.gov.cn/xinwen/2022-12/12/content_5731552.htm'},\n",
       " {'date': datetime.date(2022, 12, 11),\n",
       "  'title': '新冠病毒疫苗接种情况(截至12月10日)',\n",
       "  'link': 'http://www.gov.cn/xinwen/2022-12/11/content_5731373.htm'},\n",
       " {'date': datetime.date(2022, 12, 10),\n",
       "  'title': '新冠病毒疫苗接种情况(截至12月9日)',\n",
       "  'link': 'http://www.gov.cn/xinwen/2022-12/10/content_5731258.htm'}]"
      ]
     },
     "execution_count": 12,
     "metadata": {},
     "output_type": "execute_result"
    }
   ],
   "source": [
    "# for single page:\n",
    "\n",
    "links_per_page = []\n",
    "for i in range(0, len(covid_daily_announcement)):\n",
    "    daily_pair  = {}\n",
    "    daily_pair['date'] = ''\n",
    "    daily_pair['title'] = covid_daily_announcement[i].text\n",
    "    daily_pair['link'] = covid_daily_announcement[i]['href']\n",
    "    if '新冠病毒疫苗接种情况' in daily_pair['title']:\n",
    "        daily_pair['date'] = daily_pair['link'][25:35]\n",
    "        daily_pair['date'] = datetime.datetime.strptime(daily_pair['date'], '%Y-%m/%d').date()\n",
    "        print(daily_pair)\n",
    "        links_per_page.append(daily_pair)\n",
    "links_per_page\n",
    "\n"
   ]
  },
  {
   "cell_type": "code",
   "execution_count": 13,
   "metadata": {},
   "outputs": [],
   "source": [
    "# to csv\n",
    "with open('daily_links.csv', 'w', newline='') as csvfile:\n",
    "    fieldnames = ['date', 'title', 'link']\n",
    "    writer = csv.DictWriter(csvfile, fieldnames=fieldnames)\n",
    "    writer.writeheader()\n",
    "    for i in range(0, len(links_per_page)):\n",
    "        writer.writerow(links_per_page[i])\n"
   ]
  },
  {
   "cell_type": "code",
   "execution_count": 14,
   "metadata": {},
   "outputs": [
    {
     "name": "stdout",
     "output_type": "stream",
     "text": [
      "{'date': datetime.date(2022, 12, 12), 'title': '新冠病毒疫苗接种情况(截至12月11日)', 'link': 'http://www.gov.cn/xinwen/2022-12/12/content_5731552.htm'}\n",
      "{'date': datetime.date(2022, 12, 11), 'title': '新冠病毒疫苗接种情况(截至12月10日)', 'link': 'http://www.gov.cn/xinwen/2022-12/11/content_5731373.htm'}\n",
      "{'date': datetime.date(2022, 12, 10), 'title': '新冠病毒疫苗接种情况(截至12月9日)', 'link': 'http://www.gov.cn/xinwen/2022-12/10/content_5731258.htm'}\n"
     ]
    },
    {
     "data": {
      "text/plain": [
       "[[{'date': datetime.date(2022, 12, 12),\n",
       "   'title': '新冠病毒疫苗接种情况(截至12月11日)',\n",
       "   'link': 'http://www.gov.cn/xinwen/2022-12/12/content_5731552.htm'},\n",
       "  {'date': datetime.date(2022, 12, 11),\n",
       "   'title': '新冠病毒疫苗接种情况(截至12月10日)',\n",
       "   'link': 'http://www.gov.cn/xinwen/2022-12/11/content_5731373.htm'},\n",
       "  {'date': datetime.date(2022, 12, 10),\n",
       "   'title': '新冠病毒疫苗接种情况(截至12月9日)',\n",
       "   'link': 'http://www.gov.cn/xinwen/2022-12/10/content_5731258.htm'}]]"
      ]
     },
     "execution_count": 14,
     "metadata": {},
     "output_type": "execute_result"
    }
   ],
   "source": [
    "# for multiple pages:\n",
    "import requests\n",
    "import pandas as pd\n",
    "import random\n",
    "import datetime\n",
    "import csv\n",
    "from bs4 import BeautifulSoup\n",
    "import time\n",
    "\n",
    "all_links = []\n",
    "page_number = list(range(0,1))\n",
    "\n",
    "for page in page_number:\n",
    "    my_url = 'http://sousuo.gov.cn/column/40403/' + str(page) + '.htm'\n",
    "    response = requests.get(my_url)\n",
    "    soup = BeautifulSoup(response.text, 'html.parser')\n",
    "    covid_daily_announcement = soup.find_all('ul', class_ = 'listTxt')\n",
    "    covid_daily_announcement = covid_daily_announcement[0].find_all('a')\n",
    "    links_per_page = []\n",
    "    for i in range(0, len(covid_daily_announcement)):\n",
    "        daily_pair  = {}\n",
    "        daily_pair['date'] = ''\n",
    "        daily_pair['title'] = covid_daily_announcement[i].text\n",
    "        daily_pair['link'] = covid_daily_announcement[i]['href']\n",
    "        if '新冠病毒疫苗接种情况' in daily_pair['title']:\n",
    "            daily_pair['date'] = daily_pair['link'][25:35]\n",
    "            daily_pair['date'] = datetime.datetime.strptime(daily_pair['date'], '%Y-%m/%d').date()\n",
    "            print(daily_pair)\n",
    "            links_per_page.append(daily_pair)\n",
    "            # write to csv\n",
    "            with open('links.csv', 'a', newline='') as csvfile:\n",
    "                fieldnames = ['date', 'title', 'link']\n",
    "                writer = csv.DictWriter(csvfile, fieldnames=fieldnames)\n",
    "                writer.writerow(daily_pair)\n",
    "    all_links.append(links_per_page)\n",
    "    time.sleep(random.randint(1,3))\n",
    "\n",
    "all_links"
   ]
  },
  {
   "cell_type": "code",
   "execution_count": 15,
   "metadata": {},
   "outputs": [],
   "source": [
    "df = pd.read_csv('links.csv', index_col = 0, names=['date', 'title', 'link'])"
   ]
  },
  {
   "cell_type": "code",
   "execution_count": 16,
   "metadata": {},
   "outputs": [
    {
     "data": {
      "text/plain": [
       "'http://www.gov.cn/xinwen/2022-12/12/content_5731552.htm'"
      ]
     },
     "execution_count": 16,
     "metadata": {},
     "output_type": "execute_result"
    }
   ],
   "source": [
    "df.link[0]"
   ]
  },
  {
   "cell_type": "code",
   "execution_count": 17,
   "metadata": {},
   "outputs": [],
   "source": [
    "# from playwright.async_api import async_playwright\n",
    "\n",
    "# playwright = await async_playwright().start()\n",
    "# browser = await playwright.chromium.launch(headless = False)\n",
    "# browser.new_page()\n",
    "# page = await browser.new_page()"
   ]
  },
  {
   "cell_type": "code",
   "execution_count": 127,
   "metadata": {},
   "outputs": [],
   "source": [
    "import requests\n",
    "\n",
    "cookies = {\n",
    "    'sVoELocvxVW0S': '5SCfB82xekZkf1z8Llz4svA6L2nTZOG34XN5ZPdjmB3YqtlpAs25wB.4N16YWlv697kIeWi_XBteAfB4CfWfLka',\n",
    "    'yfx_c_g_u_id_10006654': '_ck22112421261414475334743259433',\n",
    "    'wzws_sessionid': 'gTg2ZWE4MqBjiqIegjkwZGE0YoAxNTguMjIyLjE5OC4xMTk=',\n",
    "    'insert_cookie': '96260894',\n",
    "    'arialoadData': 'true',\n",
    "    'ariawapChangeViewPort': 'false',\n",
    "    '_gscu_2059686908': '70906610vucb9d20',\n",
    "    '_gscbrs_2059686908': '1',\n",
    "    '_gscs_2059686908': 't7096304056jq0t21|pv:4',\n",
    "    'yfx_f_l_v_t_10006654': 'f_t_1669343174444__r_t_1670955302867__v_t_1670964763818__r_c_5',\n",
    "    'sVoELocvxVW0T': '53yOv1bi3y07qqqDmkVIH6abNj0r12rL3ihoINS0zjXgWcthFQYfMB..61r7_ZASkklECD1Seo7y0gCjlDzTBvJOTvXRLApPl4jUbPbM5J6724EpverDNgUPLTZjdABRL8chgsrSIAWNtFONAsEyuCyoEuq6prdTryeRl7cEDjhXANNfgTPMFbYi0drG5bE7hcojhdrKMIoSVi34u8kF7SgwmT0fVy8dYx1LRDul2KTpwkt_wixphix7psIkg35rzeTeOmtSFFSzBzYR.mHikd1wi8lEREfGXF5YuTXjnrZKkHDR3ivqhOAM6wc39Alu_.RSNMkLo5EaH0HBNqJ.IWa',\n",
    "}\n",
    "\n",
    "headers = {\n",
    "    'Accept': 'text/html,application/xhtml+xml,application/xml;q=0.9,image/avif,image/webp,image/apng,*/*;q=0.8,application/signed-exchange;v=b3;q=0.9',\n",
    "    'Accept-Language': 'en-US,en;q=0.9,zh-CN;q=0.8,zh-TW;q=0.7,zh;q=0.6',\n",
    "    'Connection': 'keep-alive',\n",
    "    # 'Cookie': 'sVoELocvxVW0S=5SCfB82xekZkf1z8Llz4svA6L2nTZOG34XN5ZPdjmB3YqtlpAs25wB.4N16YWlv697kIeWi_XBteAfB4CfWfLka; yfx_c_g_u_id_10006654=_ck22112421261414475334743259433; wzws_sessionid=gTg2ZWE4MqBjiqIegjkwZGE0YoAxNTguMjIyLjE5OC4xMTk=; insert_cookie=96260894; arialoadData=true; ariawapChangeViewPort=false; _gscu_2059686908=70906610vucb9d20; _gscbrs_2059686908=1; _gscs_2059686908=t7096304056jq0t21|pv:4; yfx_f_l_v_t_10006654=f_t_1669343174444__r_t_1670955302867__v_t_1670964763818__r_c_5; sVoELocvxVW0T=53yOv1bi3y07qqqDmkVIH6abNj0r12rL3ihoINS0zjXgWcthFQYfMB..61r7_ZASkklECD1Seo7y0gCjlDzTBvJOTvXRLApPl4jUbPbM5J6724EpverDNgUPLTZjdABRL8chgsrSIAWNtFONAsEyuCyoEuq6prdTryeRl7cEDjhXANNfgTPMFbYi0drG5bE7hcojhdrKMIoSVi34u8kF7SgwmT0fVy8dYx1LRDul2KTpwkt_wixphix7psIkg35rzeTeOmtSFFSzBzYR.mHikd1wi8lEREfGXF5YuTXjnrZKkHDR3ivqhOAM6wc39Alu_.RSNMkLo5EaH0HBNqJ.IWa',\n",
    "    'DNT': '1',\n",
    "    'Referer': 'http://www.nhc.gov.cn/xcs/yqjzqk/list_gzbd_26.shtml',\n",
    "    'Upgrade-Insecure-Requests': '1',\n",
    "    'User-Agent': 'Mozilla/5.0 (Macintosh; Intel Mac OS X 10_15_7) AppleWebKit/537.36 (KHTML, like Gecko) Chrome/108.0.0.0 Safari/537.36',\n",
    "}\n",
    "\n",
    "response = requests.get('http://www.nhc.gov.cn/xcs/yqjzqk/list_gzbd_27.shtml', cookies=cookies, headers=headers, verify=False)"
   ]
  },
  {
   "cell_type": "code",
   "execution_count": 128,
   "metadata": {},
   "outputs": [
    {
     "name": "stdout",
     "output_type": "stream",
     "text": [
      "{'date': datetime.date(2021, 3, 28), 'title': '全国新冠病毒疫苗接种情况', 'link': 'http://www.nhc.gov.cn/xcs/yqjzqk/202103/06db88dae17445fb82a6ba832efe9cf7.shtml'}\n",
      "{'date': datetime.date(2021, 3, 27), 'title': '全国新冠病毒疫苗接种情况', 'link': 'http://www.nhc.gov.cn/xcs/yqjzqk/202103/575af2e2a7794f0b9e761e2c0390b69b.shtml'}\n",
      "{'date': datetime.date(2021, 3, 26), 'title': '全国新冠病毒疫苗接种情况', 'link': 'http://www.nhc.gov.cn/xcs/yqjzqk/202103/0e5bf66b833a45de8db07e706775ae8e.shtml'}\n",
      "{'date': datetime.date(2021, 3, 25), 'title': '全国新冠病毒疫苗接种情况', 'link': 'http://www.nhc.gov.cn/jkj/s7915/202103/0d1b93ae500c418db1955fb6b4ffee70.shtml'}\n",
      "{'date': datetime.date(2021, 3, 24), 'title': '全国新冠病毒疫苗接种情况', 'link': 'http://www.nhc.gov.cn/jkj/s7915/202103/1d85a9ad629a4abcb4165803eb546b7a.shtml'}\n",
      "{'date': datetime.date(2021, 3, 23), 'title': '全国新冠病毒疫苗接种情况', 'link': 'http://www.nhc.gov.cn/jkj/s7915/202103/4e9f38edab0243e6ac433a181906e527.shtml'}\n"
     ]
    }
   ],
   "source": [
    "response.headers\n",
    "soup = BeautifulSoup(response.text, 'html.parser')\n",
    "\n",
    "ml = soup.find_all('li')\n",
    "\n",
    "for link in ml:\n",
    "    single_row  = {'date':'', 'title':'', 'link':''}\n",
    "    single_row['date'] = pd.to_datetime(link.span.text).date()+datetime.timedelta(days=-1)\n",
    "    single_row['title'] = link.a.text\n",
    "    single_row['link'] = 'http://www.nhc.gov.cn'+link.a['href']\n",
    "    print(single_row)\n",
    "    #write to csv\n",
    "    with open('data.csv', 'a', newline='') as csvfile:\n",
    "        fieldnames = ['date', 'title', 'link']\n",
    "        writer = csv.DictWriter(csvfile, fieldnames=fieldnames)\n",
    "        writer.writerow(single_row)\n",
    "\n"
   ]
  },
  {
   "cell_type": "code",
   "execution_count": 137,
   "metadata": {},
   "outputs": [],
   "source": [
    "vaccine_link = pd.read_csv('data.csv')"
   ]
  },
  {
   "cell_type": "code",
   "execution_count": 149,
   "metadata": {},
   "outputs": [
    {
     "data": {
      "text/plain": [
       "<bound method Series.sort_index of 2022-12-12  新冠病毒疫苗接种情况    http://www.nhc.gov.cn/xcs/yqjzqk/202212/e2b3e84dad9a4dd69e2b333af7e401c6.shtml\n",
       "2021-03-23  全国新冠病毒疫苗接种情况  http://www.nhc.gov.cn/jkj/s7915/202103/4e9f38edab0243e6ac433a181906e527.shtml     1\n",
       "2022-05-20  新冠病毒疫苗接种情况    http://www.nhc.gov.cn/jkj/s7915/202205/10195c42e4c149d5bdff70827bdd5f15.shtml     1\n",
       "2022-05-13  新冠病毒疫苗接种情况    http://www.nhc.gov.cn/jkj/s7915/202205/576f121dc47f417f8ad3fc9c681b98be.shtml     1\n",
       "2022-05-14  新冠病毒疫苗接种情况    http://www.nhc.gov.cn/jkj/s7915/202205/b7bee38d0b644b4dbe9e78f3725ddd0a.shtml     1\n",
       "2022-05-15  新冠病毒疫苗接种情况    http://www.nhc.gov.cn/jkj/s7915/202205/daa4ab0890c547c8b35b99cc769b2523.shtml     1\n",
       "                                                                                                           ..\n",
       "2021-10-19  新冠病毒疫苗接种情况    http://www.nhc.gov.cn/jkj/s7915/202110/d43226f89b3f4977813f35bd6b9acd2b.shtml     1\n",
       "2021-10-20  新冠病毒疫苗接种情况    http://www.nhc.gov.cn/jkj/s7915/202110/febf34f3e8ec435cbf8a0070b7885c28.shtml     1\n",
       "2021-10-21  新冠病毒疫苗接种情况    http://www.nhc.gov.cn/jkj/s7915/202110/a214158950c44e8a8267f3de229aed20.shtml     1\n",
       "2021-10-22  新冠病毒疫苗接种情况    http://www.nhc.gov.cn/jkj/s7915/202110/25530d3867cd460bb4ea24c2f8f14c39.shtml     1\n",
       "2022-12-11  新冠病毒疫苗接种情况    http://www.nhc.gov.cn/xcs/yqjzqk/202212/d549a765d6584ecd85b67ebf78155b04.shtml    1\n",
       "Length: 629, dtype: int64>"
      ]
     },
     "execution_count": 149,
     "metadata": {},
     "output_type": "execute_result"
    }
   ],
   "source": [
    "vaccine_link.value_counts().sort_index"
   ]
  },
  {
   "cell_type": "code",
   "execution_count": 147,
   "metadata": {},
   "outputs": [],
   "source": [
    "url = 'http://www.nhc.gov.cn/jkj/s7915/202110/d43226f89b3f4977813f35bd6b9acd2b.shtml'\n",
    "response = requests.get(url, cookies=cookies, headers=headers, verify=False).text"
   ]
  },
  {
   "cell_type": "code",
   "execution_count": 144,
   "metadata": {},
   "outputs": [],
   "source": [
    "soup = BeautifulSoup(response, 'html.parser')"
   ]
  },
  {
   "cell_type": "code",
   "execution_count": 148,
   "metadata": {},
   "outputs": [
    {
     "data": {
      "text/plain": [
       "[]"
      ]
     },
     "execution_count": 148,
     "metadata": {},
     "output_type": "execute_result"
    }
   ],
   "source": [
    "soup.find_all('p')"
   ]
  },
  {
   "cell_type": "code",
   "execution_count": null,
   "metadata": {},
   "outputs": [],
   "source": []
  }
 ],
 "metadata": {
  "kernelspec": {
   "display_name": "Python 3.11.0rc2 64-bit ('3.11.0rc2')",
   "language": "python",
   "name": "python3"
  },
  "language_info": {
   "codemirror_mode": {
    "name": "ipython",
    "version": 3
   },
   "file_extension": ".py",
   "mimetype": "text/x-python",
   "name": "python",
   "nbconvert_exporter": "python",
   "pygments_lexer": "ipython3",
   "version": "3.11.0rc2"
  },
  "orig_nbformat": 4,
  "vscode": {
   "interpreter": {
    "hash": "e90d6f730404473425c714071b0fe103c0a531102113070eae46c99bdeea19ae"
   }
  }
 },
 "nbformat": 4,
 "nbformat_minor": 2
}
