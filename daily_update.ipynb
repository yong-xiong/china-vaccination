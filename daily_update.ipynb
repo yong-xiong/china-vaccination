{
 "cells": [
  {
   "cell_type": "code",
   "execution_count": 4,
   "metadata": {},
   "outputs": [
    {
     "name": "stdout",
     "output_type": "stream",
     "text": [
      "2022-12-13\n",
      "http://www.gov.cn/xinwen/2022-12/14/content_5731922.htm\n",
      "No new data\n"
     ]
    }
   ],
   "source": [
    "\n",
    "import time \n",
    "from bs4 import BeautifulSoup\n",
    "import requests\n",
    "import pandas as pd\n",
    "import random\n",
    "import datetime\n",
    "import re\n",
    "\n",
    "df = pd.read_csv('daily_update.csv', index_col=0, parse_dates=True, names = ['date', 'vaccine_num_total', 'vaccine_num_daily', 'link'])\n",
    "df = df.iloc[1:]\n",
    "df['date'] = pd.to_datetime(df['date'])\n",
    "df['date'] = df['date'].dt.date\n",
    "df['vaccine_num_total'] = df['vaccine_num_total'].astype(int)\n",
    "df['vaccine_num_daily'] = df['vaccine_num_daily'].astype(int)\n",
    "\n",
    "latest_date_org = df['date'].max()\n",
    "latest_cavvine_num = df[df['date'] == latest_date_org]['vaccine_num_total'].values[0]\n",
    "\n",
    "# Get the official link of the latest vaccine data\n",
    "url = 'http://sousuo.gov.cn/column/40403/0.htm'\n",
    "response = requests.get(url)\n",
    "response.encoding = 'utf-8'\n",
    "soup = BeautifulSoup(response.text, 'html.parser')\n",
    "\n",
    "links = soup.find_all('li')\n",
    "max_date = datetime.date(2020, 12, 1)\n",
    "max_date_link = ''\n",
    "for i in links:\n",
    "    if '新冠病毒疫苗接种情况' in i.text:\n",
    "        vaccine_announce_date = i.a['href'][25:35]\n",
    "        vaccine_announce_date = datetime.datetime.strptime(vaccine_announce_date, '%Y-%m/%d').date()\n",
    "        vaccine_announce_date = vaccine_announce_date + datetime.timedelta(days=-1)\n",
    "\n",
    "        if vaccine_announce_date > max_date:\n",
    "            max_date = vaccine_announce_date\n",
    "            link = i.a['href']\n",
    "            max_date_link = link\n",
    "print(max_date)\n",
    "print(max_date_link)\n",
    "\n",
    "\n",
    "# Get the latest vaccine data\n",
    "if max_date > latest_date_org:\n",
    "    url = max_date_link\n",
    "    response = requests.get(url)\n",
    "    response.encoding = 'utf-8'\n",
    "    soup = BeautifulSoup(response.text, 'html.parser')\n",
    "    soup\n",
    "    page_text =  soup.find('p').text\n",
    "    text_extract = page_text[20:]\n",
    "    text_num = re.findall(r'(\\d+\\.\\d+)', text_extract)\n",
    "    text_num = text_num[0]\n",
    "    vaccine_num = int(float(text_num)*10000)\n",
    "    print(vaccine_num)\n",
    "    text_date = re.findall(r'(\\d{4}年\\d{1,2}月\\d{1,2}日)', page_text)[0]\n",
    "    text_date = datetime.datetime.strptime(text_date, '%Y年%m月%d日').date()\n",
    "    print(text_date)\n",
    "    vaccine_num_daily = vaccine_num - latest_cavvine_num\n",
    "    print(vaccine_num_daily)\n",
    "    print(page_text)\n",
    "    df = df.append({'date': text_date, 'vaccine_num_total': vaccine_num, 'vaccine_num_daily': vaccine_num_daily, 'link': url}, ignore_index=True)\n",
    "    df.to_csv('daily_update.csv')\n",
    "    print('New data added')\n",
    "else:\n",
    "    print('No new data')"
   ]
  },
  {
   "cell_type": "code",
   "execution_count": 5,
   "metadata": {},
   "outputs": [],
   "source": [
    "#getting the data in the past 90 days\n",
    "df = pd.read_csv('daily_update.csv', index_col=0, parse_dates=True, names = ['date', 'vaccine_num_total', 'vaccine_num_daily', 'link'])\n",
    "df = df.iloc[1:]\n",
    "df['date'] = pd.to_datetime(df['date'])\n",
    "df['date'] = df['date'].dt.date\n",
    "df['vaccine_num_total'] = df['vaccine_num_total'].astype(int)\n",
    "df['vaccine_num_daily'] = df['vaccine_num_daily'].astype(int)\n",
    "\n",
    "latest_date_org = df['date'].max()\n",
    "date_munuse_180 = latest_date_org + datetime.timedelta(days=-180)\n",
    "df = df[df['date'] >= date_munuse_180]\n",
    "\n",
    "df.to_csv('daily_update_180days.csv')\n"
   ]
  }
 ],
 "metadata": {
  "kernelspec": {
   "display_name": "Python 3",
   "language": "python",
   "name": "python3"
  },
  "language_info": {
   "codemirror_mode": {
    "name": "ipython",
    "version": 3
   },
   "file_extension": ".py",
   "mimetype": "text/x-python",
   "name": "python",
   "nbconvert_exporter": "python",
   "pygments_lexer": "ipython3",
   "version": "3.11.0rc2"
  },
  "orig_nbformat": 4,
  "vscode": {
   "interpreter": {
    "hash": "e90d6f730404473425c714071b0fe103c0a531102113070eae46c99bdeea19ae"
   }
  }
 },
 "nbformat": 4,
 "nbformat_minor": 2
}
