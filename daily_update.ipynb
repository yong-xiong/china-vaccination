{
 "cells": [
  {
   "cell_type": "code",
   "execution_count": 3,
   "metadata": {},
   "outputs": [
    {
     "name": "stdout",
     "output_type": "stream",
     "text": [
      "2023-01-01\n",
      "https://www.chinacdc.cn/jkzt/crb/zl/szkb_11803/jszl_12208/202301/t20230102_263167.html\n"
     ]
    },
    {
     "ename": "TypeError",
     "evalue": "expected string or bytes-like object, got 'list'",
     "output_type": "error",
     "traceback": [
      "\u001b[0;31m---------------------------------------------------------------------------\u001b[0m",
      "\u001b[0;31mTypeError\u001b[0m                                 Traceback (most recent call last)",
      "Cell \u001b[0;32mIn [3], line 53\u001b[0m\n\u001b[1;32m     51\u001b[0m page_main_text \u001b[39m=\u001b[39m page_text[\u001b[39m25\u001b[39m:]\n\u001b[1;32m     52\u001b[0m page_main_text\n\u001b[0;32m---> 53\u001b[0m text_num \u001b[39m=\u001b[39m re\u001b[39m.\u001b[39;49mfindall(\u001b[39mr\u001b[39;49m\u001b[39m'\u001b[39;49m\u001b[39m(\u001b[39;49m\u001b[39m\\\u001b[39;49m\u001b[39md+\u001b[39;49m\u001b[39m\\\u001b[39;49m\u001b[39m.\u001b[39;49m\u001b[39m\\\u001b[39;49m\u001b[39md+)\u001b[39;49m\u001b[39m'\u001b[39;49m, page_main_text)\n\u001b[1;32m     54\u001b[0m text_num \u001b[39m=\u001b[39m text_num[\u001b[39m0\u001b[39m]\n\u001b[1;32m     55\u001b[0m vaccine_num \u001b[39m=\u001b[39m \u001b[39mint\u001b[39m(\u001b[39mfloat\u001b[39m(text_num)\u001b[39m*\u001b[39m\u001b[39m10000\u001b[39m)\n",
      "File \u001b[0;32m~/.pyenv/versions/3.11.0rc2/lib/python3.11/re/__init__.py:216\u001b[0m, in \u001b[0;36mfindall\u001b[0;34m(pattern, string, flags)\u001b[0m\n\u001b[1;32m    208\u001b[0m \u001b[39mdef\u001b[39;00m \u001b[39mfindall\u001b[39m(pattern, string, flags\u001b[39m=\u001b[39m\u001b[39m0\u001b[39m):\n\u001b[1;32m    209\u001b[0m     \u001b[39m\"\"\"Return a list of all non-overlapping matches in the string.\u001b[39;00m\n\u001b[1;32m    210\u001b[0m \n\u001b[1;32m    211\u001b[0m \u001b[39m    If one or more capturing groups are present in the pattern, return\u001b[39;00m\n\u001b[0;32m   (...)\u001b[0m\n\u001b[1;32m    214\u001b[0m \n\u001b[1;32m    215\u001b[0m \u001b[39m    Empty matches are included in the result.\"\"\"\u001b[39;00m\n\u001b[0;32m--> 216\u001b[0m     \u001b[39mreturn\u001b[39;00m _compile(pattern, flags)\u001b[39m.\u001b[39mfindall(string)\n",
      "\u001b[0;31mTypeError\u001b[0m: expected string or bytes-like object, got 'list'"
     ]
    }
   ],
   "source": [
    "import time \n",
    "from bs4 import BeautifulSoup\n",
    "import requests\n",
    "import pandas as pd\n",
    "import random\n",
    "import datetime\n",
    "import re\n",
    "\n",
    "df = pd.read_csv('daily_update.csv', index_col=0, parse_dates=True, names = ['date', 'vaccine_num_total', 'vaccine_num_daily', 'link'])\n",
    "df = df.iloc[1:]\n",
    "df['date'] = pd.to_datetime(df['date'])\n",
    "df['date'] = df['date'].dt.date\n",
    "df['vaccine_num_total'] = df['vaccine_num_total'].astype(int)\n",
    "df['vaccine_num_daily'] = df['vaccine_num_daily'].astype(int)\n",
    "\n",
    "latest_date_org = df['date'].max()\n",
    "latest_vaccine_num = df[df['date'] == latest_date_org]['vaccine_num_total'].values[0]\n",
    "\n",
    "url_cdc = 'https://www.chinacdc.cn/jkzt/crb/zl/szkb_11803/jszl_12208/'\n",
    "response_cdc = requests.get(url_cdc)\n",
    "response_cdc.encoding = 'utf-8'\n",
    "soup_cdc = BeautifulSoup(response_cdc.text, 'html.parser')\n",
    "\n",
    "links = soup_cdc.find_all('li')\n",
    "links\n",
    "\n",
    "max_date = datetime.date(2020, 12, 1)\n",
    "max_date_link = ''\n",
    "link_head = 'https://www.chinacdc.cn/jkzt/crb/zl/szkb_11803/jszl_12208/'\n",
    "\n",
    "for i in links:\n",
    "    if '新冠病毒疫苗接种情况' in i.text:\n",
    "        vaccine_announce_date = i.a['href'][10:18]\n",
    "        vaccine_announce_date = datetime.datetime.strptime(vaccine_announce_date, '%Y%m%d').date()\n",
    "        vaccine_announce_date = vaccine_announce_date + datetime.timedelta(days=-1)\n",
    "\n",
    "        if vaccine_announce_date > max_date:\n",
    "            max_date = vaccine_announce_date\n",
    "            link = i.a['href'].replace('./', link_head)\n",
    "            max_date_link = link\n",
    "print(max_date)\n",
    "print(max_date_link)\n",
    "\n",
    "if max_date > latest_date_org:\n",
    "    url_page = max_date_link\n",
    "    response_page = requests.get(url_page)\n",
    "    response_page.encoding = 'utf-8'\n",
    "    soup_page = BeautifulSoup(response_page.text, 'html.parser')\n",
    "\n",
    "    page_text = soup_page.find_all(class_ = 'cn-main-detail')[0].text\n",
    "    page_main_text = page_text[25:]\n",
    "    page_main_text\n",
    "    text_num = re.findall(r'(\\d+\\.\\d+)', page_main_text)\n",
    "    text_num = text_num[0]\n",
    "    vaccine_num = int(float(text_num)*10000)\n",
    "    print(vaccine_num)\n",
    "\n",
    "    text_date = re.findall(r'(\\d{4}年\\d{1,2}月\\d{1,2}日)', page_text)[0]\n",
    "    text_date = datetime.datetime.strptime(text_date, '%Y年%m月%d日').date()\n",
    "    print(text_date)\n",
    "\n",
    "    vaccine_num_daily = vaccine_num - latest_vaccine_num\n",
    "    print(vaccine_num_daily)\n",
    "\n",
    "    df = df.append({'date': text_date, 'vaccine_num_total': vaccine_num, 'vaccine_num_daily': vaccine_num_daily, 'link': max_date_link}, ignore_index=True)\n",
    "    df.to_csv('daily_update.csv')\n",
    "    print('New data added')\n",
    "else:\n",
    "    print('No new data')"
   ]
  },
  {
   "cell_type": "code",
   "execution_count": null,
   "metadata": {},
   "outputs": [],
   "source": [
    "url = 'https://www.chinacdc.cn/jkzt/crb/zl/szkb_11803/jszl_12208/202301/t20230102_263167.html'\n",
    "response = requests.get(url)\n",
    "response.encoding = 'utf-8'\n",
    "soup = BeautifulSoup(response.text, 'html.parser')\n",
    "soup.find_all(class_ = 'cn-main-detail')[0].text\n"
   ]
  },
  {
   "cell_type": "code",
   "execution_count": null,
   "metadata": {},
   "outputs": [],
   "source": [
    "\n",
    "df = pd.read_csv('daily_update.csv', index_col=0, parse_dates=True, names = ['date', 'vaccine_num_total', 'vaccine_num_daily', 'link'])\n",
    "df = df.iloc[1:]\n",
    "# reorganize index of df\n",
    "df.index = range(len(df))\n",
    "df['date'] = pd.to_datetime(df['date'])\n",
    "df['date'] = df['date'].dt.date\n",
    "df['vaccine_num_total'] = df['vaccine_num_total'].astype(int)\n",
    "df['vaccine_num_daily'] = df['vaccine_num_daily'].astype(int)\n",
    "\n",
    "latest_date_org = df['date'].max()\n",
    "date_minus_180 = latest_date_org + datetime.timedelta(days=-180)\n",
    "df = df[df['date'] >= date_minus_180]\n",
    "\n",
    "df.to_csv('daily_update_180days.csv')"
   ]
  }
 ],
 "metadata": {
  "kernelspec": {
   "display_name": "Python 3",
   "language": "python",
   "name": "python3"
  },
  "language_info": {
   "codemirror_mode": {
    "name": "ipython",
    "version": 3
   },
   "file_extension": ".py",
   "mimetype": "text/x-python",
   "name": "python",
   "nbconvert_exporter": "python",
   "pygments_lexer": "ipython3",
   "version": "3.11.0rc2"
  },
  "orig_nbformat": 4,
  "vscode": {
   "interpreter": {
    "hash": "e90d6f730404473425c714071b0fe103c0a531102113070eae46c99bdeea19ae"
   }
  }
 },
 "nbformat": 4,
 "nbformat_minor": 2
}
