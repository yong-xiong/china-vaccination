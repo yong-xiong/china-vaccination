{
 "cells": [
  {
   "cell_type": "code",
   "execution_count": 9,
   "metadata": {},
   "outputs": [
    {
     "name": "stdout",
     "output_type": "stream",
     "text": [
      "2023-01-01\n",
      "https://www.chinacdc.cn/jkzt/crb/zl/szkb_11803/jszl_12208/202301/t20230102_263167.html\n",
      "No new data\n"
     ]
    }
   ],
   "source": [
    "import time \n",
    "from bs4 import BeautifulSoup\n",
    "import requests\n",
    "import pandas as pd\n",
    "import random\n",
    "import datetime\n",
    "import re\n",
    "\n",
    "df = pd.read_csv('daily_update.csv', index_col=0, parse_dates=True, names = ['date', 'vaccine_num_total', 'vaccine_num_daily', 'link'])\n",
    "df = df.iloc[1:]\n",
    "df['date'] = pd.to_datetime(df['date'])\n",
    "df['date'] = df['date'].dt.date\n",
    "df['vaccine_num_total'] = df['vaccine_num_total'].astype(int)\n",
    "df['vaccine_num_daily'] = df['vaccine_num_daily'].astype(int)\n",
    "\n",
    "latest_date_org = df['date'].max()\n",
    "latest_vaccine_num = df[df['date'] == latest_date_org]['vaccine_num_total'].values[0]\n",
    "\n",
    "url_cdc = 'https://www.chinacdc.cn/jkzt/crb/zl/szkb_11803/jszl_12208/'\n",
    "response_cdc = requests.get(url_cdc)\n",
    "response_cdc.encoding = 'utf-8'\n",
    "soup_cdc = BeautifulSoup(response_cdc.text, 'html.parser')\n",
    "\n",
    "links = soup_cdc.find_all('li')\n",
    "links\n",
    "\n",
    "max_date = datetime.date(2020, 12, 1)\n",
    "max_date_link = ''\n",
    "link_head = 'https://www.chinacdc.cn/jkzt/crb/zl/szkb_11803/jszl_12208/'\n",
    "\n",
    "for i in links:\n",
    "    if '新冠病毒疫苗接种情况' in i.text:\n",
    "        vaccine_announce_date = i.a['href'][10:18]\n",
    "        vaccine_announce_date = datetime.datetime.strptime(vaccine_announce_date, '%Y%m%d').date()\n",
    "        vaccine_announce_date = vaccine_announce_date + datetime.timedelta(days=-1)\n",
    "\n",
    "        if vaccine_announce_date > max_date:\n",
    "            max_date = vaccine_announce_date\n",
    "            link = i.a['href'].replace('./', link_head)\n",
    "            max_date_link = link\n",
    "print(max_date)\n",
    "print(max_date_link)\n",
    "\n",
    "if max_date > latest_date_org:\n",
    "    url_page = max_date_link\n",
    "    response_page = requests.get(url_page)\n",
    "    response_page.encoding = 'utf-8'\n",
    "    soup_page = BeautifulSoup(response_page.text, 'html.parser')\n",
    "\n",
    "    page_text = soup_page.find_all(class_ = 'cn-main-detail')[0].text\n",
    "    page_main_text = page_text[25:]\n",
    "    page_main_text\n",
    "    text_num = re.findall(r'(\\d+\\.\\d+)', page_main_text)\n",
    "    text_num = text_num[0]\n",
    "    vaccine_num = int(float(text_num)*10000)\n",
    "    print(vaccine_num)\n",
    "\n",
    "    text_date = re.findall(r'(\\d{4}年\\d{1,2}月\\d{1,2}日)', page_text)[0]\n",
    "    text_date = datetime.datetime.strptime(text_date, '%Y年%m月%d日').date()\n",
    "    print(text_date)\n",
    "\n",
    "    vaccine_num_daily = vaccine_num - latest_vaccine_num\n",
    "    print(vaccine_num_daily)\n",
    "\n",
    "    df = df.append({'date': text_date, 'vaccine_num_total': vaccine_num, 'vaccine_num_daily': vaccine_num_daily, 'link': max_date_link}, ignore_index=True)\n",
    "    df.to_csv('daily_update.csv')\n",
    "    print('New data added')\n",
    "else:\n",
    "    print('No new data')"
   ]
  },
  {
   "cell_type": "code",
   "execution_count": null,
   "metadata": {},
   "outputs": [],
   "source": [
    "\n",
    "df = pd.read_csv('daily_update.csv', index_col=0, parse_dates=True, names = ['date', 'vaccine_num_total', 'vaccine_num_daily', 'link'])\n",
    "df = df.iloc[1:]\n",
    "# reorganize index of df\n",
    "df.index = range(len(df))\n",
    "df['date'] = pd.to_datetime(df['date'])\n",
    "df['date'] = df['date'].dt.date\n",
    "df['vaccine_num_total'] = df['vaccine_num_total'].astype(int)\n",
    "df['vaccine_num_daily'] = df['vaccine_num_daily'].astype(int)\n",
    "\n",
    "latest_date_org = df['date'].max()\n",
    "date_minus_180 = latest_date_org + datetime.timedelta(days=-180)\n",
    "df = df[df['date'] >= date_minus_180]\n",
    "\n",
    "df.to_csv('daily_update_180days.csv')"
   ]
  }
 ],
 "metadata": {
  "kernelspec": {
   "display_name": "Python 3",
   "language": "python",
   "name": "python3"
  },
  "language_info": {
   "codemirror_mode": {
    "name": "ipython",
    "version": 3
   },
   "file_extension": ".py",
   "mimetype": "text/x-python",
   "name": "python",
   "nbconvert_exporter": "python",
   "pygments_lexer": "ipython3",
   "version": "3.11.0rc2 (main, Oct 27 2022, 13:38:33) [Clang 14.0.0 (clang-1400.0.29.102)]"
  },
  "orig_nbformat": 4,
  "vscode": {
   "interpreter": {
    "hash": "e90d6f730404473425c714071b0fe103c0a531102113070eae46c99bdeea19ae"
   }
  }
 },
 "nbformat": 4,
 "nbformat_minor": 2
}
