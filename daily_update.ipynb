{
 "cells": [
  {
   "cell_type": "code",
   "execution_count": null,
   "metadata": {},
   "outputs": [],
   "source": [
    "import time \n",
    "from bs4 import BeautifulSoup\n",
    "import requests\n",
    "import pandas as pd\n",
    "import random\n",
    "import datetime\n",
    "import re\n",
    "\n",
    "df = pd.read_csv('daily_update.csv', index_col=0, parse_dates=True, names = ['date', 'vaccine_num_total', 'vaccine_num_daily', 'link'])\n",
    "df = df.iloc[1:]\n",
    "df['date'] = pd.to_datetime(df['date'])\n",
    "df['date'] = df['date'].dt.date\n",
    "df['vaccine_num_total'] = df['vaccine_num_total'].astype(int)\n",
    "df['vaccine_num_daily'] = df['vaccine_num_daily'].astype(int)\n",
    "\n",
    "latest_date_org = df['date'].max()\n",
    "latest_vaccine_num = df[df['date'] == latest_date_org]['vaccine_num_total'].values[0]\n",
    "\n",
    "url_cdc = 'https://www.chinacdc.cn/jkzt/crb/zl/szkb_11803/jszl_12208/'\n",
    "response_cdc = requests.get(url_cdc)\n",
    "response_cdc.encoding = 'utf-8'\n",
    "soup_cdc = BeautifulSoup(response_cdc.text, 'html.parser')\n",
    "\n",
    "links = soup_cdc.find_all('li')\n",
    "links\n",
    "\n",
    "max_date = datetime.date(2020, 12, 1)\n",
    "max_date_link = ''\n",
    "link_head = 'https://www.chinacdc.cn/jkzt/crb/zl/szkb_11803/jszl_12208'\n",
    "\n",
    "for i in links:\n",
    "    if '新冠病毒疫苗接种情况' in i.text:\n",
    "        vaccine_announce_date = i.a['href'][10:18]\n",
    "        vaccine_announce_date = datetime.datetime.strptime(vaccine_announce_date, '%Y%m%d').date()\n",
    "        vaccine_announce_date = vaccine_announce_date + datetime.timedelta(days=-1)\n",
    "\n",
    "        if vaccine_announce_date > max_date:\n",
    "            max_date = vaccine_announce_date\n",
    "            link = i.a['href'].replace('./', link_head)\n",
    "            max_date_link = link\n",
    "print(max_date)\n",
    "print(max_date_link)\n",
    "\n",
    "if max_date > latest_date_org:\n",
    "    url_page = max_date_link\n",
    "    response_page = requests.get(url_page)\n",
    "    response_page.encoding = 'utf-8'\n",
    "    soup_page = BeautifulSoup(response_page.text, 'html.parser')\n",
    "\n",
    "    page_text = soup_page.find_all(class_ = 'cn-main-detail')[0].text\n",
    "    page_main_text = page_text[25:]\n",
    "    page_main_text\n",
    "    text_num = re.findall(r'(\\d+\\.\\d+)', page_main_text)\n",
    "    text_num = text_num[0]\n",
    "    vaccine_num = int(float(text_num)*10000)\n",
    "    print(vaccine_num)\n",
    "\n",
    "    text_date = re.findall(r'(\\d{4}年\\d{1,2}月\\d{1,2}日)', page_text)[0]\n",
    "    text_date = datetime.datetime.strptime(text_date, '%Y年%m月%d日').date()\n",
    "    print(text_date)\n",
    "\n",
    "    vaccine_num_daily = vaccine_num - latest_vaccine_num\n",
    "    print(vaccine_num_daily)\n",
    "\n",
    "    df = df.append({'date': text_date, 'vaccine_num_total': vaccine_num, 'vaccine_num_daily': vaccine_num_daily, 'link': url}, ignore_index=True)\n",
    "    df.to_csv('daily_update.csv')\n",
    "    print('New data added')\n",
    "else:\n",
    "    print('No new data')\n",
    "\n"
   ]
  },
  {
   "cell_type": "code",
   "execution_count": 160,
   "metadata": {},
   "outputs": [
    {
     "ename": "TypeError",
     "evalue": "SyncBase.__init__() missing 1 required positional argument: 'impl_obj'",
     "output_type": "error",
     "traceback": [
      "\u001b[0;31m---------------------------------------------------------------------------\u001b[0m",
      "\u001b[0;31mTypeError\u001b[0m                                 Traceback (most recent call last)",
      "Cell \u001b[0;32mIn [160], line 9\u001b[0m\n\u001b[1;32m      5\u001b[0m soup_page \u001b[39m=\u001b[39m BeautifulSoup(response_page\u001b[39m.\u001b[39mtext, \u001b[39m'\u001b[39m\u001b[39mhtml.parser\u001b[39m\u001b[39m'\u001b[39m)\n\u001b[1;32m      7\u001b[0m \u001b[39mfrom\u001b[39;00m \u001b[39mplaywright\u001b[39;00m\u001b[39m.\u001b[39;00m\u001b[39msync_api\u001b[39;00m \u001b[39mimport\u001b[39;00m Page, expect\n\u001b[0;32m----> 9\u001b[0m page \u001b[39m=\u001b[39m Page()\n\u001b[1;32m     10\u001b[0m page\u001b[39m.\u001b[39mgoto(url_page)\n",
      "\u001b[0;31mTypeError\u001b[0m: SyncBase.__init__() missing 1 required positional argument: 'impl_obj'"
     ]
    }
   ],
   "source": [
    "url_page\n",
    "\n",
    "response_page = requests.get(url_page)\n",
    "response_page.encoding = 'utf-8'\n",
    "soup_page = BeautifulSoup(response_page.text, 'html.parser')\n",
    "\n",
    "from playwright.sync_api import Page, expect\n"
   ]
  },
  {
   "cell_type": "code",
   "execution_count": 157,
   "metadata": {},
   "outputs": [
    {
     "name": "stdout",
     "output_type": "stream",
     "text": [
      "\n"
     ]
    }
   ],
   "source": [
    "print(soup_page)"
   ]
  },
  {
   "cell_type": "code",
   "execution_count": 155,
   "metadata": {},
   "outputs": [
    {
     "ename": "IndexError",
     "evalue": "list index out of range",
     "output_type": "error",
     "traceback": [
      "\u001b[0;31m---------------------------------------------------------------------------\u001b[0m",
      "\u001b[0;31mIndexError\u001b[0m                                Traceback (most recent call last)",
      "Cell \u001b[0;32mIn [155], line 1\u001b[0m\n\u001b[0;32m----> 1\u001b[0m page_text \u001b[39m=\u001b[39m soup_page\u001b[39m.\u001b[39;49mfind_all(class_ \u001b[39m=\u001b[39;49m \u001b[39m'\u001b[39;49m\u001b[39mcn-main-detail\u001b[39;49m\u001b[39m'\u001b[39;49m)[\u001b[39m0\u001b[39;49m]\u001b[39m.\u001b[39mtext\n\u001b[1;32m      2\u001b[0m page_main_text \u001b[39m=\u001b[39m page_text[\u001b[39m25\u001b[39m:]\n\u001b[1;32m      3\u001b[0m page_main_text\n",
      "\u001b[0;31mIndexError\u001b[0m: list index out of range"
     ]
    }
   ],
   "source": [
    "page_text = soup_page.find_all(class_ = 'cn-main-detail')[0].text\n",
    "page_main_text = page_text[25:]\n",
    "page_main_text\n",
    "text_num = re.findall(r'(\\d+\\.\\d+)', page_main_text)\n",
    "text_num = text_num[0]\n",
    "vaccine_num = int(float(text_num)*10000)\n",
    "print(vaccine_num)"
   ]
  },
  {
   "cell_type": "code",
   "execution_count": 152,
   "metadata": {},
   "outputs": [],
   "source": [
    "\n",
    "df = pd.read_csv('daily_update.csv', index_col=0, parse_dates=True, names = ['date', 'vaccine_num_total', 'vaccine_num_daily', 'link'])\n",
    "df = df.iloc[1:]\n",
    "# reorganize index of df\n",
    "df.index = range(len(df))\n",
    "df['date'] = pd.to_datetime(df['date'])\n",
    "df['date'] = df['date'].dt.date\n",
    "df['vaccine_num_total'] = df['vaccine_num_total'].astype(int)\n",
    "df['vaccine_num_daily'] = df['vaccine_num_daily'].astype(int)\n",
    "\n",
    "latest_date_org = df['date'].max()\n",
    "date_minus_180 = latest_date_org + datetime.timedelta(days=-180)\n",
    "df = df[df['date'] >= date_minus_180]\n",
    "\n",
    "df.to_csv('daily_update_180days.csv')"
   ]
  }
 ],
 "metadata": {
  "kernelspec": {
   "display_name": "Python 3",
   "language": "python",
   "name": "python3"
  },
  "language_info": {
   "codemirror_mode": {
    "name": "ipython",
    "version": 3
   },
   "file_extension": ".py",
   "mimetype": "text/x-python",
   "name": "python",
   "nbconvert_exporter": "python",
   "pygments_lexer": "ipython3",
   "version": "3.11.0rc2"
  },
  "orig_nbformat": 4,
  "vscode": {
   "interpreter": {
    "hash": "e90d6f730404473425c714071b0fe103c0a531102113070eae46c99bdeea19ae"
   }
  }
 },
 "nbformat": 4,
 "nbformat_minor": 2
}
